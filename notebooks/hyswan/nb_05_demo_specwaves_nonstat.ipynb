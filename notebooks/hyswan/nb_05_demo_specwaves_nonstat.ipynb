{
 "cells": [
  {
   "cell_type": "markdown",
   "metadata": {},
   "source": [
    "# Dynamic Spectral Downscaling\n",
    "\n",
    "This is an example of dynamical downscaling, using hourly spectral data to feed SWAN model in Nonstationary mode. \n",
    "\n",
    "SWAN scenario is a demo case based on Roi-namur (Kwajalein atoll).\n"
   ]
  },
  {
   "cell_type": "code",
   "execution_count": 1,
   "metadata": {},
   "outputs": [],
   "source": [
    "#!/usr/bin/env python\n",
    "# -*- coding: utf-8 -*-\n",
    "\n",
    "# common\n",
    "import os\n",
    "import os.path as op\n",
    "\n",
    "# pip\n",
    "import numpy as np\n",
    "import pandas as pd\n",
    "import xarray as xr\n",
    "import matplotlib.pyplot as plt\n",
    "\n",
    "# dev library\n",
    "import sys\n",
    "sys.path.insert(0, op.join(os.path.abspath(''), '..', '..'))\n",
    "\n",
    "# swan wrap module\n",
    "from hywaves.swan.wrap import SwanProject, SwanMesh, SwanWrap_NONSTAT\n",
    "from hywaves.swan.plots.stationary import scatter_maps\n"
   ]
  },
  {
   "cell_type": "code",
   "execution_count": 2,
   "metadata": {},
   "outputs": [],
   "source": [
    "# --------------------------------------\n",
    "# data\n",
    "p_data = op.abspath(op.join(os.path.abspath(''), '..', '..', 'data'))\n",
    "p_demo = op.join(p_data, 'demo', 'roi')\n",
    "\n",
    "# swan main\n",
    "p_swan_ext = op.join(p_demo, 'Roinamur_ext_bottom.dat')\n",
    "\n",
    "# waves data\n",
    "p_waves = op.join(p_data, 'demo', 'waves_efth_demo.nc')\n",
    "\n",
    "# roi shore (for plots)\n",
    "p_shore = op.join(p_demo, 'shore.npy')\n",
    "np_shore = np.load(p_shore)\n"
   ]
  },
  {
   "cell_type": "code",
   "execution_count": 3,
   "metadata": {},
   "outputs": [],
   "source": [
    "# load\n",
    "efth = xr.open_dataset(p_waves)\n",
    "\n",
    "# add time as \"index\" to efth dataset\n",
    "efth['index'] = efth.time\n",
    "\n",
    "# calculate U10, V10 from wspeed and wdir\n",
    "efth['U10'] = efth.Wspeed * np.sin(np.deg2rad(efth.Wdir))\n",
    "efth['V10'] = efth.Wspeed * np.cos(np.deg2rad(efth.Wdir))"
   ]
  },
  {
   "cell_type": "markdown",
   "metadata": {},
   "source": [
    "## SWAN Project"
   ]
  },
  {
   "cell_type": "code",
   "execution_count": 4,
   "metadata": {},
   "outputs": [],
   "source": [
    "# --------------------------------------\n",
    "# SWAN project \n",
    "\n",
    "p_proj = op.join(p_data, 'projects')  # swan projects main directory\n",
    "n_proj = 'nb_05_demo'                 # project name\n",
    "\n",
    "sp = SwanProject(p_proj, n_proj)\n"
   ]
  },
  {
   "cell_type": "markdown",
   "metadata": {},
   "source": [
    "### 1.1. SWAN: main grid description <a name=\"sp-grid-m\"></a>"
   ]
  },
  {
   "cell_type": "code",
   "execution_count": 5,
   "metadata": {},
   "outputs": [],
   "source": [
    "# --------------------------------------\n",
    "# SWAN main mesh\n",
    "main_mesh = SwanMesh()\n",
    "\n",
    "# depth grid description (input bathymetry grid)\n",
    "main_mesh.dg = {\n",
    "    'xpc': 166.6159,  # x origin\n",
    "    'ypc': 8.4105,    # y origin\n",
    "    'alpc': 0,        # x-axis direction \n",
    "    'xlenc': 1.3722,  # grid length in x\n",
    "    'ylenc': 1.175,   # grid length in y\n",
    "    'mxc': 137,       # number mesh x\n",
    "    'myc': 118,       # number mesh y\n",
    "    'dxinp': 0.01,    # size mesh x\n",
    "    'dyinp': 0.01,    # size mesh y\n",
    "}\n",
    "\n",
    "# depth value\n",
    "main_mesh.depth = np.loadtxt(p_swan_ext)\n",
    "\n",
    "# computational grid description\n",
    "main_mesh.cg = main_mesh.dg.copy()\n",
    "\n",
    "sp.set_main_mesh(main_mesh)\n"
   ]
  },
  {
   "cell_type": "markdown",
   "metadata": {},
   "source": [
    "### 1.2. SWAN: case parameters <a name=\"sp-params\"></a>"
   ]
  },
  {
   "cell_type": "code",
   "execution_count": 6,
   "metadata": {},
   "outputs": [],
   "source": [
    "# --------------------------------------\n",
    "# SWAN parameters (sea level, jonswap gamma...)\n",
    "\n",
    "input_params = {\n",
    "    'set_level': 0,\n",
    "    'set_convention': 'NAUTICAL',\n",
    "\n",
    "    'coords_mode': 'SPHERICAL',\n",
    "    'coords_projection': 'CCM',\n",
    "    \n",
    "    'boundw_jonswap': 10,\n",
    "    'boundw_period': 'PEAK',\n",
    "    \n",
    "    'output_deltt': '1 HR',\n",
    "    'compute_deltc': '10 MIN',\n",
    "\n",
    "    'boundn_mode': 'CLOSED',\n",
    "\n",
    "    'physics':[\n",
    "        'FRICTION JONSWAP',\n",
    "        'BREAKING',\n",
    "    ],\n",
    "\n",
    "    'numerics':[\n",
    "        'OFF QUAD',\n",
    "        'PROP BSBT',\n",
    "    ]\n",
    "}\n",
    "\n",
    "sp.set_params(input_params)\n"
   ]
  },
  {
   "cell_type": "markdown",
   "metadata": {},
   "source": [
    "### 1.3. SWAN: Build and launch waves cases <a name=\"sp-cases\"></a>"
   ]
  },
  {
   "cell_type": "code",
   "execution_count": 8,
   "metadata": {},
   "outputs": [],
   "source": [
    "# SWAN project wrapper\n",
    "sw = SwanWrap_NONSTAT(sp)\n",
    "\n",
    "# build and launch cases\n",
    "sw.build_spectral_cases(efth, make_winds=False)\n",
    "sw.run_cases()\n"
   ]
  },
  {
   "cell_type": "markdown",
   "metadata": {},
   "source": [
    "### 1.4. SWAN: main mesh output <a name=\"sp-output-mg\"></a>"
   ]
  },
  {
   "cell_type": "code",
   "execution_count": 10,
   "metadata": {},
   "outputs": [
    {
     "name": "stdout",
     "output_type": "stream",
     "text": [
      "<xarray.Dataset>\n",
      "Dimensions:     (case: 1, lat: 118, lon: 137, time: 2)\n",
      "Coordinates:\n",
      "  * time        (time) datetime64[ns] 2014-12-19 2014-12-19T01:00:00\n",
      "  * lon         (lon) float64 166.6 166.6 166.6 166.6 ... 168.0 168.0 168.0\n",
      "  * lat         (lat) float64 8.411 8.42 8.43 8.44 ... 9.546 9.556 9.566 9.576\n",
      "  * case        (case) int64 0\n",
      "Data variables:\n",
      "    Depth       (case, time, lat, lon) float32 4.978e+03 4.984e+03 ... 4.574e+03\n",
      "    Tm02        (case, time, lat, lon) float32 nan nan nan ... 2.032 2.033 2.034\n",
      "    Tp          (case, time, lat, lon) float32 nan nan nan ... 1.998 1.999 1.999\n",
      "    Hsig        (case, time, lat, lon) float32 0.0 0.0 ... 1.788e-07 1.772e-07\n",
      "    RTpeak      (case, time, lat, lon) float32 nan nan nan ... 1.941 1.941 1.941\n",
      "    Dspr        (case, time, lat, lon) float32 nan nan nan ... 7.576 1.72 0.1136\n",
      "    FSpr        (case, time, lat, lon) float32 nan nan nan ... 0.8332 0.8341\n",
      "    Dir         (case, time, lat, lon) float32 nan nan nan ... 262.4 262.5 262.5\n",
      "    PkDir       (case, time, lat, lon) float32 nan nan nan ... 262.5 262.5 262.5\n",
      "    WaterLevel  (case, time, lat, lon) float32 0.0 0.0 0.0 0.0 ... 0.0 0.0 0.0\n",
      "    Windv_x     (case, time, lat, lon) float32 0.0 0.0 0.0 0.0 ... 0.0 0.0 0.0\n",
      "    Windv_y     (case, time, lat, lon) float32 0.0 0.0 0.0 0.0 ... 0.0 0.0 0.0\n"
     ]
    }
   ],
   "source": [
    "# extract output for main mesh\n",
    "xds_out = sw.extract_output()\n",
    "print(xds_out)\n"
   ]
  },
  {
   "cell_type": "code",
   "execution_count": null,
   "metadata": {},
   "outputs": [],
   "source": []
  }
 ],
 "metadata": {
  "kernelspec": {
   "display_name": "Python 3",
   "language": "python",
   "name": "python3"
  },
  "language_info": {
   "codemirror_mode": {
    "name": "ipython",
    "version": 3
   },
   "file_extension": ".py",
   "mimetype": "text/x-python",
   "name": "python",
   "nbconvert_exporter": "python",
   "pygments_lexer": "ipython3",
   "version": "3.7.10"
  }
 },
 "nbformat": 4,
 "nbformat_minor": 4
}
