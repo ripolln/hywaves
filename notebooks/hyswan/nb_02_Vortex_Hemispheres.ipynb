{
 "cells": [
  {
   "cell_type": "markdown",
   "metadata": {},
   "source": [
    "\n",
    "## HySWAN Vortex Model: Storm generated waves at each hemisphere.\n",
    "\n",
    "This is a very simplified example of HySWAN toolbox. \n",
    "\n",
    "A storm simulated with Vortex model will be solved using non-stationary SWAN numerical model, a simulation will be done at north hemisphere and a second one at south hemisphere. Outputs are shown to check Vortex behaviour\n",
    "\n",
    "SWAN scenarios are demo cases based on Majuro and Samoa.\n",
    "\n",
    "<strong>Workflow</strong>:\n",
    "\n",
    "- synthethic storm tracks will be generated for both SWAN sites\n",
    "- SWAN will be feed with a synthethic storm track, and Vortex winds model will generate storm wind fields\n",
    "- output will be compared between both sites, Majuro for north hemisphere and Samoa for south hemisphere.\n"
   ]
  },
  {
   "cell_type": "code",
   "execution_count": 1,
   "metadata": {},
   "outputs": [],
   "source": [
    "#!/usr/bin/env python\n",
    "# -*- coding: utf-8 -*-\n",
    "\n",
    "# common\n",
    "import os\n",
    "import os.path as op\n",
    "\n",
    "# pip\n",
    "import numpy as np\n",
    "import pandas as pd\n",
    "import xarray as xr\n",
    "import matplotlib.pyplot as plt\n",
    "\n",
    "# dev library\n",
    "import sys\n",
    "sys.path.insert(0, op.join(os.path.abspath(''), '..', '..'))\n",
    "\n",
    "# swan wrap module\n",
    "from hywaves.swan.wrap import SwanProject, SwanMesh, SwanWrap_NONSTAT\n",
    "\n",
    "# storms module\n",
    "from hywaves.swan.storms import track_site_parameters\n",
    "\n",
    "# plotting\n",
    "from hywaves.swan.plots.nonstationary import plot_storm_track\n"
   ]
  },
  {
   "cell_type": "markdown",
   "metadata": {},
   "source": [
    "\n",
    "## Database"
   ]
  },
  {
   "cell_type": "code",
   "execution_count": 2,
   "metadata": {},
   "outputs": [],
   "source": [
    "# --------------------------------------\n",
    "# data\n",
    "p_data = op.abspath(op.join(os.path.abspath(''), '..', '..', 'data'))\n",
    "p_demo = op.join(p_data, 'demo', 'nb_demo_majuro_samoa')\n",
    "\n",
    "# Majuro and Samoa bathymetry\n",
    "p_bathy_majuro = op.join(p_demo, 'depth_majuro.nc')\n",
    "p_bathy_samoa = op.join(p_demo, 'depth_samoa.nc')\n",
    "\n",
    "# Majuro and Samoa coastlines\n",
    "p_shore_majuro = op.join(p_demo, 'shore_majuro.npy')\n",
    "p_shore_samoa = op.join(p_demo, 'shore_samoa.npy')\n"
   ]
  },
  {
   "cell_type": "markdown",
   "metadata": {},
   "source": [
    "## MAJURO - Load bathymetry and shoreline"
   ]
  },
  {
   "cell_type": "code",
   "execution_count": 3,
   "metadata": {},
   "outputs": [],
   "source": [
    "# load depth file\n",
    "xds_bathy = xr.open_dataset(p_bathy_majuro)\n",
    "\n",
    "# sign convention [0º,360º]\n",
    "xds_lon = xds_bathy.lon.values\n",
    "xds_lon[xds_lon<0] = xds_lon[xds_lon<0] + 360\n",
    "xds_bathy.lon.values[:] = xds_lon\n",
    "\n",
    "lon = xds_bathy.lon.values[:]\n",
    "lat = xds_bathy.lat.values[:]\n",
    "\n",
    "depth = xds_bathy.elevation.values[:] * -1  # elevation to depth \n",
    "\n",
    "\n",
    "# shoreline (from .nc file)\n",
    "np_shore = np.load(p_shore_majuro)\n",
    "\n",
    "# sign convention [0º,360º]\n",
    "lon_shore = np_shore[:,0]\n",
    "lon_shore[lon_shore<0] = lon_shore[lon_shore<0] + 360\n",
    "np_shore[:,0] = lon_shore\n",
    "\n"
   ]
  },
  {
   "cell_type": "markdown",
   "metadata": {},
   "source": [
    "## MAJURO - Generate input storm track (North Hemisphere Vortex) "
   ]
  },
  {
   "cell_type": "code",
   "execution_count": 4,
   "metadata": {},
   "outputs": [
    {
     "name": "stdout",
     "output_type": "stream",
     "text": [
      "input storm track\n",
      "                        move       vf        vfx       vfy    pn        p0  \\\n",
      "2000-01-02 00:00:00  92.7126  69.0352 -68.957845  3.267168  1013  924.9709   \n",
      "2000-01-02 00:30:00  92.7126  69.0352 -68.957845  3.267168  1013  924.9709   \n",
      "2000-01-02 01:00:00  92.7126  69.0352 -68.957845  3.267168  1013  924.9709   \n",
      "2000-01-02 01:30:00  92.7126  69.0352 -68.957845  3.267168  1013  924.9709   \n",
      "2000-01-02 02:00:00  92.7126  69.0352 -68.957845  3.267168  1013  924.9709   \n",
      "2000-01-02 02:30:00  92.7126  69.0352 -68.957845  3.267168  1013  924.9709   \n",
      "2000-01-02 03:00:00  92.7126  69.0352 -68.957845  3.267168  1013  924.9709   \n",
      "2000-01-02 03:30:00  92.7126  69.0352 -68.957845  3.267168  1013  924.9709   \n",
      "2000-01-02 04:00:00  92.7126  69.0352 -68.957845  3.267168  1013  924.9709   \n",
      "2000-01-02 04:30:00  92.7126  69.0352 -68.957845  3.267168  1013  924.9709   \n",
      "2000-01-02 05:00:00  92.7126  69.0352 -68.957845  3.267168  1013  924.9709   \n",
      "2000-01-02 05:30:00  92.7126  69.0352 -68.957845  3.267168  1013  924.9709   \n",
      "2000-01-02 06:00:00  92.7126  69.0352 -68.957845  3.267168  1013  924.9709   \n",
      "2000-01-02 06:30:00  92.7126  69.0352 -68.957845  3.267168  1013  924.9709   \n",
      "2000-01-02 07:00:00  92.7126  69.0352 -68.957845  3.267168  1013  924.9709   \n",
      "2000-01-02 07:30:00  92.7126  69.0352 -68.957845  3.267168  1013  924.9709   \n",
      "2000-01-02 08:00:00  92.7126  69.0352 -68.957845  3.267168  1013  924.9709   \n",
      "2000-01-02 08:30:00  92.7126  69.0352 -68.957845  3.267168  1013  924.9709   \n",
      "2000-01-02 09:00:00  92.7126  69.0352 -68.957845  3.267168  1013  924.9709   \n",
      "2000-01-02 09:30:00  92.7126  69.0352 -68.957845  3.267168  1013  924.9709   \n",
      "2000-01-02 10:00:00  92.7126  69.0352 -68.957845  3.267168  1013  924.9709   \n",
      "2000-01-02 10:30:00  92.7126  69.0352 -68.957845  3.267168  1013  924.9709   \n",
      "2000-01-02 11:00:00  92.7126  69.0352 -68.957845  3.267168  1013  924.9709   \n",
      "2000-01-02 11:30:00  92.7126  69.0352 -68.957845  3.267168  1013  924.9709   \n",
      "2000-01-02 12:00:00  92.7126  69.0352 -68.957845  3.267168  1013  924.9709   \n",
      "2000-01-02 12:30:00  92.7126  69.0352 -68.957845  3.267168  1013  924.9709   \n",
      "\n",
      "                            lon       lat       vmax  \n",
      "2000-01-02 00:00:00  178.497917  7.103203  97.664368  \n",
      "2000-01-02 00:30:00  177.913613  7.130487  97.664368  \n",
      "2000-01-02 01:00:00  177.329242  7.157031  97.664368  \n",
      "2000-01-02 01:30:00  176.744804  7.182834  97.664368  \n",
      "2000-01-02 02:00:00  176.160300  7.207892  97.664368  \n",
      "2000-01-02 02:30:00  175.575734  7.232203  97.664368  \n",
      "2000-01-02 03:00:00  174.991106  7.255764  97.664368  \n",
      "2000-01-02 03:30:00  174.406418  7.278573  97.664368  \n",
      "2000-01-02 04:00:00  173.821672  7.300627  97.664368  \n",
      "2000-01-02 04:30:00  173.236870  7.321923  97.664368  \n",
      "2000-01-02 05:00:00  172.652013  7.342460  97.664368  \n",
      "2000-01-02 05:30:00  172.067104  7.362235  97.664368  \n",
      "2000-01-02 06:00:00  171.482144  7.381247  97.664368  \n",
      "2000-01-02 06:30:00  170.897135  7.399492  97.664368  \n",
      "2000-01-02 07:00:00  170.312078  7.416969  97.664368  \n",
      "2000-01-02 07:30:00  169.726977  7.433676  97.664368  \n",
      "2000-01-02 08:00:00  169.141832  7.449612  97.664368  \n",
      "2000-01-02 08:30:00  168.556647  7.464774  97.664368  \n",
      "2000-01-02 09:00:00  167.971421  7.479161  97.664368  \n",
      "2000-01-02 09:30:00  167.386159  7.492772  97.664368  \n",
      "2000-01-02 10:00:00  166.800861  7.505604  97.664368  \n",
      "2000-01-02 10:30:00  166.215530  7.517657  97.664368  \n",
      "2000-01-02 11:00:00  165.630168  7.528929  97.664368  \n",
      "2000-01-02 11:30:00  165.044777  7.539420  97.664368  \n",
      "2000-01-02 12:00:00  164.459358  7.549127  97.664368  \n",
      "2000-01-02 12:30:00  163.873915  7.558049  97.664368  \n"
     ]
    }
   ],
   "source": [
    "# target location\n",
    "target = 'Majuro'\n",
    "x0, y0 = 171.18, 7.11       # coordinates\n",
    "if x0 < 0:  x0 = x0 + 360   # sign convention [0º,360º]\n",
    "\n",
    "    \n",
    "# input: waves_event (empty) + storm_track (from MDA parameters)\n",
    "date_ini = '2000-01-02 00:00'\n",
    "time = pd.date_range(date_ini, periods=6, freq='H')\n",
    "we = pd.DataFrame(index=time, columns=['hs', 'per', 'dir', 'spr', 'U10', 'V10'])\n",
    "we['level'] = 0\n",
    "we['tide'] = 0\n",
    "\n",
    "\n",
    "# input: storm_track (from parameters)\n",
    "pmin = 924.9709      # center pressure \n",
    "vmean = 69.0352      # translation velocity (km/h)\n",
    "delta = 87.8432      # azimut\n",
    "gamma = 92.7126      # translation angle (nautical convention)\n",
    "R = 4                # radius in degrees\n",
    "tstep = 30           # computational time step (minutes) for track interpolation\n",
    "\n",
    "# storm track from parameters\n",
    "st = track_site_parameters(\n",
    "    tstep, pmin, vmean, delta, gamma,\n",
    "    x0, y0, lon[0], lon[-1], lat[0], lat[-1],\n",
    "    R, date_ini\n",
    ")\n",
    "\n",
    "print('input storm track')\n",
    "print(st)\n"
   ]
  },
  {
   "cell_type": "code",
   "execution_count": 5,
   "metadata": {},
   "outputs": [
    {
     "data": {
      "image/png": "[encoded data removed]",
      "text/plain": [
       "<Figure size 864x864 with 1 Axes>"
      ]
     },
     "metadata": {
      "needs_background": "light"
     },
     "output_type": "display_data"
    }
   ],
   "source": [
    "# plot storm track\n",
    "plot_storm_track(\n",
    "    'Majuro', st, 0, \n",
    "    lon[0], lon[-1], lat[0], lat[-1],\n",
    "    None, None, None, None, np_shore = np_shore,\n",
    ")"
   ]
  },
  {
   "cell_type": "markdown",
   "metadata": {},
   "source": [
    "## MAJURO: Swan Project, meshes and input parameters"
   ]
  },
  {
   "cell_type": "code",
   "execution_count": 6,
   "metadata": {},
   "outputs": [],
   "source": [
    "# --------------------------------------\n",
    "# SWAN project \n",
    "\n",
    "p_proj = op.join(p_data, 'projects')  # swan projects main directory\n",
    "n_proj = 'nb_02_majuro'               # project name\n",
    "\n",
    "sp = SwanProject(p_proj, n_proj)\n",
    "\n",
    "\n",
    "# --------------------------------------\n",
    "# SWAN main mesh\n",
    "main_mesh = SwanMesh()\n",
    "\n",
    "# depth grid description (input bathymetry grid)\n",
    "main_mesh.dg = {\n",
    "    'xpc': lon[0],                             # x origin\n",
    "    'ypc': lat[0],                             # y origin\n",
    "    'alpc': 0,                                 # x-axis direction \n",
    "    'xlenc': lon[-1]-lon[0],                   # grid length in x\n",
    "    'ylenc': lat[-1]-lat[0],                   # grid length in y\n",
    "    'mxc': depth.shape[1]-1,                   # number mesh x\n",
    "    'myc': depth.shape[0]-1,                   # number mesh y\n",
    "    'dxinp': (lon[-1]-lon[0])/depth.shape[1],  # size mesh x\n",
    "    'dyinp': (lat[-1]-lat[0])/depth.shape[0],  # size mesh y\n",
    "}\n",
    "\n",
    "# depth value (from file)\n",
    "main_mesh.depth = depth\n",
    "\n",
    "# computational grid description\n",
    "main_mesh.cg = {\n",
    "    'xpc': 163.5,\n",
    "    'ypc': 0.5,\n",
    "    'alpc': 0,\n",
    "    'xlenc': 15,\n",
    "    'ylenc': 13,\n",
    "    'mxc': int(round(15/0.136)),    # grid resolution of 15km (=0.136º)\n",
    "    'myc': int(round(13/0.136)),\n",
    "    'dxinp': 15/int(round(15/0.136)),\n",
    "    'dyinp': 13/int(round(13/0.136)),\n",
    "}\n",
    "\n",
    "sp.set_main_mesh(main_mesh)\n",
    "\n",
    "\n",
    "# --------------------------------------\n",
    "# SWAN nested meshes\n",
    "\n",
    "\n",
    "# NEST 1\n",
    "mesh_nest1 = SwanMesh()\n",
    "\n",
    "# depth grid description (input bathymetry grid)\n",
    "# grid resolution of 5km (=0.0453º)\n",
    "res1 = 0.04533\n",
    "mesh_nest1.dg = main_mesh.dg\n",
    "\n",
    "# depth value (from file)\n",
    "mesh_nest1.depth = main_mesh.depth\n",
    "\n",
    "# computational grid description\n",
    "mesh_nest1.cg = {\n",
    "    'xpc': 168.5,\n",
    "    'ypc': 5.5,\n",
    "    'alpc': 0,\n",
    "    'xlenc': 5.5,\n",
    "    'ylenc': 3.5,\n",
    "    'mxc': int(round(5.5/res1)),\n",
    "    'myc': int(round(3.5/res1)),\n",
    "    'dxinp': 5.5/int(round(5.5/res1)),\n",
    "    'dyinp': 3.5/int(round(3.5/res1)),\n",
    "}\n",
    "\n",
    "\n",
    "# NEST 2\n",
    "mesh_nest2 = SwanMesh()\n",
    "\n",
    "# depth grid description (input bathymetry grid)\n",
    "# grid resolution of 1km (=0.009º)\n",
    "res2 = 0.009\n",
    "mesh_nest2.dg = main_mesh.dg\n",
    "\n",
    "# depth value (from file)\n",
    "mesh_nest2.depth = main_mesh.depth\n",
    "\n",
    "# computational grid description\n",
    "mesh_nest2.cg = {\n",
    "    'xpc': 170.9,\n",
    "    'ypc': 6.8,\n",
    "    'alpc': 0,\n",
    "    'xlenc': 1.2,\n",
    "    'ylenc': 0.7,\n",
    "    'mxc': int(round(1.2/res2)),\n",
    "    'myc': int(round(0.7/res2)),\n",
    "    'dxinp': 1.2/int(round(1.2/res2)),\n",
    "    'dyinp': 0.7/int(round(0.7/res2)),\n",
    "}\n",
    "\n",
    "\n",
    "# set project nested mesh list\n",
    "sp.set_nested_mesh_list([mesh_nest1, mesh_nest2])\n",
    "\n",
    "\n",
    "# --------------------------------------\n",
    "# SWAN parameters (sea level, jonswap gamma)\n",
    "input_params = {\n",
    "    'set_level': 0,\n",
    "    'set_convention': 'NAUTICAL',\n",
    "    'set_cdcap': 2.5*10**-3,\n",
    "\n",
    "    'boundw_jonswap': 3.3,\n",
    "    'boundw_period': 'MEAN',\n",
    "\n",
    "    'boundn_mode': 'CLOSED',\n",
    "\n",
    "    'wind_deltinp': '30 MIN',\n",
    "    'level_deltinp': '1 HR',\n",
    "\n",
    "    'compute_deltc': '30 MIN',\n",
    "    'output_deltt': '30 MIN',\n",
    "\n",
    "    'physics':[\n",
    "        'WIND DRAG WU',\n",
    "        'GEN3 ST6 5.7E-7 8.0E-6 4.0 4.0 UP HWANG VECTAU TRUE10',\n",
    "        'QUAD iquad=8',\n",
    "        'WCAP',\n",
    "        'TRIADS',\n",
    "        'DIFFRAC',\n",
    "    ],\n",
    "\n",
    "    'numerics':[\n",
    "        'PROP BSBT',\n",
    "    ]\n",
    "}\n",
    "sp.set_params(input_params)\n",
    "\n",
    "# SWAN output points\n",
    "sp.x_out = [172.5, 172.5, 171]\n",
    "sp.y_out = [8.5, 9.6, 7.4]\n"
   ]
  },
  {
   "cell_type": "markdown",
   "metadata": {},
   "source": [
    "## MAJURO: Build and launch SWAN Vortex cases"
   ]
  },
  {
   "cell_type": "code",
   "execution_count": 7,
   "metadata": {
    "scrolled": false
   },
   "outputs": [],
   "source": [
    "# SWAN project wrapper\n",
    "sw = SwanWrap_NONSTAT(sp)\n",
    "\n",
    "# build non-stationary cases from wave_events list and storm_tracks list\n",
    "#sw.build_cases([we], storm_track_list=[st], make_waves=False)\n",
    "\n",
    "# launch cases\n",
    "#sw.run_cases()\n"
   ]
  },
  {
   "cell_type": "markdown",
   "metadata": {},
   "source": [
    "## MAJURO: SWAN output visualization"
   ]
  },
  {
   "cell_type": "code",
   "execution_count": 8,
   "metadata": {
    "scrolled": false
   },
   "outputs": [
    {
     "name": "stdout",
     "output_type": "stream",
     "text": [
      "<xarray.Dataset>\n",
      "Dimensions:  (X: 110, Y: 96, case: 1, time: 11)\n",
      "Coordinates:\n",
      "  * Y        (Y) float64 0.5 0.6354 0.7708 0.9062 ... 12.96 13.09 13.23 13.36\n",
      "  * X        (X) float64 163.5 163.6 163.8 163.9 ... 178.0 178.1 178.2 178.4\n",
      "  * time     (time) datetime64[ns] 2000-01-02 ... 2000-01-02T05:00:00\n",
      "Dimensions without coordinates: case\n",
      "Data variables:\n",
      "    Hsig     (case, time, X, Y) float32 0.0 0.0 0.0 ... 3.3954348e-16 0.15366285\n",
      "    Tm02     (case, time, X, Y) float32 nan nan nan ... 1.9268471 2.0479126\n",
      "    Dir      (case, time, X, Y) float32 nan nan nan ... 262.10352 222.23772\n",
      "    Dspr     (case, time, X, Y) float32 nan nan nan ... 81.028465 26.462383\n",
      "    TPsmoo   (case, time, X, Y) float32 nan nan nan ... 1.9466542 2.6622026\n"
     ]
    }
   ],
   "source": [
    "# extract grid output from non-stationary cases\n",
    "xds_out_main = sw.extract_output()\n",
    "print(xds_out_main)\n",
    "\n",
    "# TODO: AÑADIR PLOTS"
   ]
  },
  {
   "cell_type": "code",
   "execution_count": 9,
   "metadata": {
    "scrolled": false
   },
   "outputs": [
    {
     "name": "stdout",
     "output_type": "stream",
     "text": [
      "<xarray.Dataset>\n",
      "Dimensions:  (X: 121, Y: 77, case: 1, time: 10)\n",
      "Coordinates:\n",
      "  * Y        (Y) float64 5.5 5.545 5.591 5.636 5.682 ... 8.818 8.864 8.909 8.955\n",
      "  * X        (X) float64 168.5 168.5 168.6 168.6 ... 173.8 173.9 173.9 174.0\n",
      "  * time     (time) datetime64[ns] 2000-01-02 ... 2000-01-02T04:30:00\n",
      "Dimensions without coordinates: case\n",
      "Data variables:\n",
      "    Hsig     (case, time, X, Y) float32 0.001903379 0.0019095049 ... 0.0 0.0\n",
      "    Tm02     (case, time, X, Y) float32 1.4047856 1.4047837 ... nan nan\n",
      "    Dir      (case, time, X, Y) float32 279.40253 279.1425 278.88562 ... nan nan\n",
      "    Dspr     (case, time, X, Y) float32 31.507042 31.528782 ... nan nan\n",
      "    TPsmoo   (case, time, X, Y) float32 1.9607003 1.9607 1.9607003 ... nan nan\n"
     ]
    }
   ],
   "source": [
    "# extract output for nested mesh\n",
    "xds_out_n1 = sw.extract_output(mesh=sp.mesh_nested_list[0])\n",
    "print(xds_out_n1)\n",
    "\n",
    "# TODO: repetir para nested mesh 1 y 2"
   ]
  },
  {
   "cell_type": "markdown",
   "metadata": {},
   "source": [
    "## SAMOA - Load bathymetry and shoreline"
   ]
  },
  {
   "cell_type": "code",
   "execution_count": 10,
   "metadata": {},
   "outputs": [],
   "source": [
    "# load depth file\n",
    "xds_bathy = xr.open_dataset(p_bathy_samoa)\n",
    "\n",
    "# sign convention [0º,360º]\n",
    "xds_lon = xds_bathy.lon.values\n",
    "xds_lon[xds_lon<0] = xds_lon[xds_lon<0] + 360\n",
    "xds_bathy.lon.values[:] = xds_lon\n",
    "\n",
    "lon = xds_bathy.lon.values[:]\n",
    "lat = xds_bathy.lat.values[:]\n",
    "\n",
    "depth = xds_bathy.elevation.values[:] * -1  # elevation to depth \n",
    "\n",
    "\n",
    "# shoreline (from .nc file)\n",
    "np_shore = np.load(p_shore_samoa)\n",
    "\n",
    "# sign convention [0º,360º]\n",
    "lon_shore = np_shore[:,0]\n",
    "lon_shore[lon_shore<0] = lon_shore[lon_shore<0] + 360\n",
    "np_shore[:,0] = lon_shore\n"
   ]
  },
  {
   "cell_type": "markdown",
   "metadata": {},
   "source": [
    "## SAMOA - Generate input storm track (South Hemisphere Vortex) "
   ]
  },
  {
   "cell_type": "code",
   "execution_count": 11,
   "metadata": {},
   "outputs": [
    {
     "name": "stdout",
     "output_type": "stream",
     "text": [
      "input storm track\n",
      "                        move       vf        vfx       vfy    pn        p0  \\\n",
      "2000-01-02 00:00:00  92.7126  69.0352 -68.957845  3.267168  1013  924.9709   \n",
      "2000-01-02 00:30:00  92.7126  69.0352 -68.957845  3.267168  1013  924.9709   \n",
      "2000-01-02 01:00:00  92.7126  69.0352 -68.957845  3.267168  1013  924.9709   \n",
      "2000-01-02 01:30:00  92.7126  69.0352 -68.957845  3.267168  1013  924.9709   \n",
      "2000-01-02 02:00:00  92.7126  69.0352 -68.957845  3.267168  1013  924.9709   \n",
      "2000-01-02 02:30:00  92.7126  69.0352 -68.957845  3.267168  1013  924.9709   \n",
      "2000-01-02 03:00:00  92.7126  69.0352 -68.957845  3.267168  1013  924.9709   \n",
      "2000-01-02 03:30:00  92.7126  69.0352 -68.957845  3.267168  1013  924.9709   \n",
      "2000-01-02 04:00:00  92.7126  69.0352 -68.957845  3.267168  1013  924.9709   \n",
      "2000-01-02 04:30:00  92.7126  69.0352 -68.957845  3.267168  1013  924.9709   \n",
      "2000-01-02 05:00:00  92.7126  69.0352 -68.957845  3.267168  1013  924.9709   \n",
      "2000-01-02 05:30:00  92.7126  69.0352 -68.957845  3.267168  1013  924.9709   \n",
      "2000-01-02 06:00:00  92.7126  69.0352 -68.957845  3.267168  1013  924.9709   \n",
      "2000-01-02 06:30:00  92.7126  69.0352 -68.957845  3.267168  1013  924.9709   \n",
      "2000-01-02 07:00:00  92.7126  69.0352 -68.957845  3.267168  1013  924.9709   \n",
      "2000-01-02 07:30:00  92.7126  69.0352 -68.957845  3.267168  1013  924.9709   \n",
      "2000-01-02 08:00:00  92.7126  69.0352 -68.957845  3.267168  1013  924.9709   \n",
      "2000-01-02 08:30:00  92.7126  69.0352 -68.957845  3.267168  1013  924.9709   \n",
      "2000-01-02 09:00:00  92.7126  69.0352 -68.957845  3.267168  1013  924.9709   \n",
      "2000-01-02 09:30:00  92.7126  69.0352 -68.957845  3.267168  1013  924.9709   \n",
      "2000-01-02 10:00:00  92.7126  69.0352 -68.957845  3.267168  1013  924.9709   \n",
      "2000-01-02 10:30:00  92.7126  69.0352 -68.957845  3.267168  1013  924.9709   \n",
      "2000-01-02 11:00:00  92.7126  69.0352 -68.957845  3.267168  1013  924.9709   \n",
      "2000-01-02 11:30:00  92.7126  69.0352 -68.957845  3.267168  1013  924.9709   \n",
      "2000-01-02 12:00:00  92.7126  69.0352 -68.957845  3.267168  1013  924.9709   \n",
      "2000-01-02 12:30:00  92.7126  69.0352 -68.957845  3.267168  1013  924.9709   \n",
      "\n",
      "                            lon        lat        vmax  \n",
      "2000-01-02 00:00:00  194.997917 -13.529539  104.150156  \n",
      "2000-01-02 00:30:00  194.401732 -13.501188  104.150156  \n",
      "2000-01-02 01:00:00  193.805692 -13.471421  104.150156  \n",
      "2000-01-02 01:30:00  193.209803 -13.440240  104.150156  \n",
      "2000-01-02 02:00:00  192.614071 -13.407649  104.150156  \n",
      "2000-01-02 02:30:00  192.018503 -13.373652  104.150156  \n",
      "2000-01-02 03:00:00  191.423106 -13.338254  104.150156  \n",
      "2000-01-02 03:30:00  190.827885 -13.301459  104.150156  \n",
      "2000-01-02 04:00:00  190.232847 -13.263270  104.150156  \n",
      "2000-01-02 04:30:00  189.637999 -13.223693  104.150156  \n",
      "2000-01-02 05:00:00  189.043345 -13.182733  104.150156  \n",
      "2000-01-02 05:30:00  188.448893 -13.140393  104.150156  \n",
      "2000-01-02 06:00:00  187.854648 -13.096680  104.150156  \n",
      "2000-01-02 06:30:00  187.260616 -13.051598  104.150156  \n",
      "2000-01-02 07:00:00  186.666802 -13.005153  104.150156  \n",
      "2000-01-02 07:30:00  186.073212 -12.957350  104.150156  \n",
      "2000-01-02 08:00:00  185.479852 -12.908195  104.150156  \n",
      "2000-01-02 08:30:00  184.886727 -12.857694  104.150156  \n",
      "2000-01-02 09:00:00  184.293842 -12.805853  104.150156  \n",
      "2000-01-02 09:30:00  183.701203 -12.752677  104.150156  \n",
      "2000-01-02 10:00:00  183.108814 -12.698174  104.150156  \n",
      "2000-01-02 10:30:00  182.516680 -12.642349  104.150156  \n",
      "2000-01-02 11:00:00  181.924806 -12.585209  104.150156  \n",
      "2000-01-02 11:30:00  181.333197 -12.526761  104.150156  \n",
      "2000-01-02 12:00:00  180.741858 -12.467012  104.150156  \n",
      "2000-01-02 12:30:00  180.150792 -12.405968  104.150156  \n"
     ]
    }
   ],
   "source": [
    "# target location\n",
    "target = 'Samoa'\n",
    "x0, y0 = -172.8, -13.5      # coordinates\n",
    "if x0 < 0:  x0 = x0 + 360   # sign convention [0º,360º]\n",
    "\n",
    "    \n",
    "# input: waves_event (empty) + storm_track (from MDA parameters)\n",
    "date_ini = '2000-01-02 00:00'\n",
    "time = pd.date_range(date_ini, periods=6, freq='H')\n",
    "we = pd.DataFrame(index=time, columns=['hs', 'per', 'dir', 'spr', 'U10', 'V10'])\n",
    "we['level'] = 0\n",
    "we['tide'] = 0\n",
    "\n",
    "\n",
    "# input: storm_track (from parameters)\n",
    "pmin = 924.9709      # center pressure \n",
    "vmean = 69.0352      # translation velocity (km/h)\n",
    "delta = 87.8432      # azimut\n",
    "gamma = 92.7126      # translation angle (nautical convention)\n",
    "R = 4                # radius in degrees\n",
    "tstep = 30           # computational time step (minutes) for track interpolation\n",
    "\n",
    "# storm track from parameters\n",
    "st = track_site_parameters(\n",
    "    tstep, pmin, vmean, delta, gamma,\n",
    "    x0, y0, lon[0], lon[-1], lat[0], lat[-1],\n",
    "    R, date_ini\n",
    ")\n",
    "\n",
    "print('input storm track')\n",
    "print(st)\n"
   ]
  },
  {
   "cell_type": "code",
   "execution_count": 12,
   "metadata": {},
   "outputs": [
    {
     "data": {
      "image/png": "[encoded data removed]",
      "text/plain": [
       "<Figure size 864x864 with 1 Axes>"
      ]
     },
     "metadata": {
      "needs_background": "light"
     },
     "output_type": "display_data"
    }
   ],
   "source": [
    "# plot storm track\n",
    "\n",
    "plot_storm_track(\n",
    "    'Samoa', st, 0, \n",
    "    lon[0], lon[-1], lat[0], lat[-1],\n",
    "    None, None, None, None, np_shore = np_shore,\n",
    ")\n"
   ]
  },
  {
   "cell_type": "markdown",
   "metadata": {},
   "source": [
    "## SAMOA: Swan Project, meshes and input parameters"
   ]
  },
  {
   "cell_type": "code",
   "execution_count": 13,
   "metadata": {},
   "outputs": [],
   "source": [
    "# --------------------------------------\n",
    "# SWAN project (config bathymetry, parameters, computational grid)\n",
    "\n",
    "p_proj = op.join(p_data, 'projects')  # swan projects main directory\n",
    "n_proj = 'nb_02_samoa'                # project name\n",
    "\n",
    "sp = SwanProject(p_proj, n_proj)\n",
    "\n",
    "\n",
    "# --------------------------------------\n",
    "# SWAN main mesh\n",
    "main_mesh = SwanMesh()\n",
    "\n",
    "# depth grid description (input bathymetry grid)\n",
    "main_mesh.dg = {\n",
    "    'xpc': lon[0],                             # x origin\n",
    "    'ypc': lat[0],                             # y origin\n",
    "    'alpc': 0,                                 # x-axis direction \n",
    "    'xlenc': lon[-1]-lon[0],                   # grid length in x\n",
    "    'ylenc': lat[-1]-lat[0],                   # grid length in y\n",
    "    'mxc': depth.shape[1]-1,                   # number mesh x\n",
    "    'myc': depth.shape[0]-1,                   # number mesh y\n",
    "    'dxinp': (lon[-1]-lon[0])/depth.shape[1],  # size mesh x\n",
    "    'dyinp': (lat[-1]-lat[0])/depth.shape[0],  # size mesh y\n",
    "}\n",
    "\n",
    "# depth value (from file)\n",
    "main_mesh.depth = depth\n",
    "\n",
    "# computational grid description\n",
    "main_mesh.cg = {\n",
    "    'xpc': 182,\n",
    "    'ypc': -20,\n",
    "    'alpc': 0,\n",
    "    'xlenc': 12,\n",
    "    'ylenc': 12.5,\n",
    "    'mxc': int(round(12/0.136)),    # grid resolution of 15km (=0.136º)\n",
    "    'myc': int(round(12.5/0.136)),\n",
    "    'dxinp': 12/int(round(12/0.136)),\n",
    "    'dyinp': 12.5/int(round(12.5/0.136)),\n",
    "}\n",
    "\n",
    "sp.set_main_mesh(main_mesh)\n",
    "\n",
    "# SWAN parameters (sea level, jonswap gamma, ...)\n",
    "input_params = {\n",
    "    'set_level': 0,\n",
    "    'set_convention': 'NAUTICAL',\n",
    "    'set_cdcap': 2.5*10**-3,\n",
    "\n",
    "    'boundw_jonswap': 3.3,\n",
    "    'boundw_period': 'MEAN',\n",
    "\n",
    "    'boundn_mode': 'CLOSED',\n",
    "\n",
    "    'wind_deltinp': '30 MIN',\n",
    "    'level_deltinp': '1 HR',\n",
    "\n",
    "    'compute_deltc': '30 MIN',\n",
    "    'output_deltt': '30 MIN',\n",
    "\n",
    "    'physics':[\n",
    "        'WIND DRAG WU',\n",
    "        'GEN3 ST6 5.7E-7 8.0E-6 4.0 4.0 UP HWANG VECTAU TRUE10',\n",
    "        'QUAD iquad=8',\n",
    "        'WCAP',\n",
    "        'TRIADS',\n",
    "        'DIFFRAC',\n",
    "    ],\n",
    "\n",
    "    'numerics':[\n",
    "        'PROP BSBT',\n",
    "    ]\n",
    "}\n",
    "sp.set_params(input_params)\n",
    "\n",
    "# SWAN output points\n",
    "sp.x_out = [167.5, 167.5, 167]\n",
    "sp.y_out = [9.5, 9.6, 9.45]\n"
   ]
  },
  {
   "cell_type": "markdown",
   "metadata": {},
   "source": [
    "## SAMOA: Build and launch SWAN Vortex cases"
   ]
  },
  {
   "cell_type": "code",
   "execution_count": 14,
   "metadata": {},
   "outputs": [],
   "source": [
    "# SWAN project wrapper\n",
    "sw = SwanWrap_NONSTAT(sp)\n",
    "\n",
    "# build non-stationary cases from wave_events list and storm_tracks list\n",
    "#sw.build_cases([we], storm_track_list=[st], make_waves=False)\n",
    "\n",
    "# launch cases\n",
    "#sw.run_cases()"
   ]
  },
  {
   "cell_type": "markdown",
   "metadata": {},
   "source": [
    "## SAMOA: SWAN output visualization"
   ]
  },
  {
   "cell_type": "code",
   "execution_count": 15,
   "metadata": {},
   "outputs": [
    {
     "name": "stdout",
     "output_type": "stream",
     "text": [
      "<xarray.Dataset>\n",
      "Dimensions:  (X: 88, Y: 92, case: 1, time: 11)\n",
      "Coordinates:\n",
      "  * Y        (Y) float64 -20.0 -19.86 -19.73 -19.59 ... -7.908 -7.772 -7.636\n",
      "  * X        (X) float64 182.0 182.1 182.3 182.4 ... 193.5 193.6 193.7 193.9\n",
      "  * time     (time) datetime64[ns] 2000-01-02 ... 2000-01-02T05:00:00\n",
      "Dimensions without coordinates: case\n",
      "Data variables:\n",
      "    Hsig     (case, time, X, Y) float32 0.0 0.0 ... 4.966171e-22 9.957141e-21\n",
      "    Tm02     (case, time, X, Y) float32 nan nan nan ... nan 2.480179 0.6853023\n",
      "    Dir      (case, time, X, Y) float32 nan nan nan nan ... nan 270.0 219.71606\n",
      "    Dspr     (case, time, X, Y) float32 nan nan nan ... nan 81.028465 81.028465\n",
      "    TPsmoo   (case, time, X, Y) float32 nan nan nan nan ... nan 2.3520904 nan\n"
     ]
    }
   ],
   "source": [
    "# extract grid output from non-stationary cases\n",
    "xds_out_main = sw.extract_output()\n",
    "print(xds_out_main)\n",
    "\n",
    "# TODO: AÑADIR PLOTS\n"
   ]
  }
 ],
 "metadata": {
  "kernelspec": {
   "display_name": "Python 3",
   "language": "python",
   "name": "python3"
  },
  "language_info": {
   "codemirror_mode": {
    "name": "ipython",
    "version": 3
   },
   "file_extension": ".py",
   "mimetype": "text/x-python",
   "name": "python",
   "nbconvert_exporter": "python",
   "pygments_lexer": "ipython3",
   "version": "3.7.2"
  }
 },
 "nbformat": 4,
 "nbformat_minor": 4
}
